{
 "cells": [
  {
   "cell_type": "markdown",
   "id": "e839ea71",
   "metadata": {},
   "source": [
    "# ニューラルネットワークとは\n",
    "適切な重みパラメータをデータから自動で学習できるネットワーク。\n"
   ]
  },
  {
   "cell_type": "markdown",
   "id": "a5066ba2",
   "metadata": {},
   "source": [
    "## パーセプトロンの構造\n",
    "ニューラルネットワークは、パーセプトロンを何層にも重ねることができる。最初の層を**入力層**、中間の層を**中間層**または**隠れ層**、最後の層を**出力層**という。"
   ]
  },
  {
   "cell_type": "markdown",
   "id": "a85bf481",
   "metadata": {},
   "source": [
    "例として、$x_{1}$と$x_{2}$の２つの入力信号を受け取り、$y$を出力するパーセプトロンについて考える。この時、このパーセプトロンを数式で表すと、以下のようになる。"
   ]
  },
  {
   "cell_type": "markdown",
   "id": "116753d5",
   "metadata": {},
   "source": [
    "$y = \n",
    "\\left \\{\n",
    "\\begin{array}{l}\n",
    "0　( b + w_{1}x_{1} + w_{2}x_{2} \\leqq 0) \\\\\n",
    "1　( b + w_{1}x_{1} + w_{2}x_{2} > 0)\n",
    "\\end{array}\n",
    "\\right.$"
   ]
  },
  {
   "cell_type": "markdown",
   "id": "430ff269",
   "metadata": {},
   "source": [
    "ここでは、$b$は**バイアス**と呼ばれるパラメーターで、ニューロンの発火（1を出力すること)のしやすさをコントロールするもの。また、$w_1$や$w_2$は各信号の**重み**を表すパラメーターで、各信号の重要度を決定する。また、この数式は以下のように書き換えることもできる。"
   ]
  },
  {
   "cell_type": "markdown",
   "id": "e3e17f6c",
   "metadata": {},
   "source": [
    "$y = h(b + w_{1}x_{1} + w_{2}x_{2})$\n",
    "<br>\n",
    "<br>\n",
    "$h(x) = \n",
    "\\left \\{\n",
    "\\begin{array}{l}\n",
    "0　( x \\leqq 0) \\\\\n",
    "1　( x > 0)\n",
    "\\end{array}\n",
    "\\right.$"
   ]
  },
  {
   "cell_type": "markdown",
   "id": "adb3e1e0",
   "metadata": {},
   "source": [
    "この式では、入力信号の総和を$h(x)$という関数によって出力$y$に変換している。このような入力信号の総和を出力信号に変換する関数は、一般に**活性化関数**と呼ばれる。"
   ]
  },
  {
   "cell_type": "markdown",
   "id": "b33795cb",
   "metadata": {},
   "source": [
    "## 活性化関数\n",
    "上記のように、閾値を境に出力が切り替わる活性化関数は、「ステップ関数」や「階段関数」と呼ばれる。そのため、パーセプトロンにおいては活性化関数として「ステップ関数」を使用している、と言うことができる。ニューラルネットワークでは、ステップ関数ではない関数を活性化関数として使用する。使用される代表的な関数としては、**シグモイド関数**や、**ReLU関数**などがある。"
   ]
  },
  {
   "cell_type": "markdown",
   "id": "96cb7172",
   "metadata": {},
   "source": [
    "### シグモイド関数\n",
    "１つ目のシグモイド関数は、以下のような式で表される。\n",
    "<br>\n",
    "<br>\n",
    "$\n",
    "h(x) = {\\large \\frac{1}{1 + \\exp(-x)}}\n",
    "$\n",
    "<br>\n",
    "<br>\n",
    "この式における$\\exp(-x)$は、$e^{-x}$を表す。($e$はネイピア数）"
   ]
  },
  {
   "cell_type": "markdown",
   "id": "15191b6c",
   "metadata": {},
   "source": [
    "### ReLU関数\n",
    "２つ目のReLU関数は、数式で表すと次のように表される。\n",
    "<br>\n",
    "<br>\n",
    "$h(x) = \n",
    "\\left \\{\n",
    "\\begin{array}{l}\n",
    "x　( x > 0) \\\\\n",
    "0　( x \\leqq 0)\n",
    "\\end{array}\n",
    "\\right.$"
   ]
  },
  {
   "cell_type": "markdown",
   "id": "dfdb143f",
   "metadata": {},
   "source": [
    "### ステップ関数と各関数との比較\n",
    "それぞれの関数をpythonで実装し、グラフに描画すると以下のようになる。（後に説明するが、配列を扱えるほうが都合がいいため、NumPy配列を引数としてとれるような関数を今回は実装する。）"
   ]
  },
  {
   "cell_type": "code",
   "execution_count": 1,
   "id": "a4623ca9",
   "metadata": {},
   "outputs": [
    {
     "data": {
      "image/png": "[encoded data removed]",
      "text/plain": [
       "<Figure size 432x288 with 1 Axes>"
      ]
     },
     "metadata": {
      "needs_background": "light"
     },
     "output_type": "display_data"
    },
    {
     "data": {
      "image/png": "[encoded data removed]",
      "text/plain": [
       "<Figure size 432x288 with 1 Axes>"
      ]
     },
     "metadata": {
      "needs_background": "light"
     },
     "output_type": "display_data"
    },
    {
     "data": {
      "image/png": "[encoded data removed]",
      "text/plain": [
       "<Figure size 432x288 with 1 Axes>"
      ]
     },
     "metadata": {
      "needs_background": "light"
     },
     "output_type": "display_data"
    }
   ],
   "source": [
    "import numpy as np\n",
    "import matplotlib.pylab as plt\n",
    "import japanize_matplotlib\n",
    "%matplotlib inline\n",
    "\n",
    "def step_function(x): #ステップ関数の定義\n",
    "    return np.array(x > 0, dtype = np.int64) #要素が0より大きいときはTrue(1)を返し、それをint型に変換して返す。\n",
    "\n",
    "def sigmoid(x): #シグモイド関数の定義\n",
    "    return 1 / (1 + np.exp(-x))\n",
    "\n",
    "def relu(x): #ReLU関数の定義\n",
    "    return np.maximum(0, x) #0とxのうち大きいほうを返す\n",
    "\n",
    "x = np.arange(-5.0, 5.0, 0.1)\n",
    "\n",
    "y1 = step_function(x)\n",
    "plt.title('ステップ関数')\n",
    "plt.plot(x, y1)\n",
    "plt.ylim(-0.1, 1.1)\n",
    "plt.show()\n",
    "\n",
    "y2 = sigmoid(x)\n",
    "plt.title('シグモイド関数')\n",
    "plt.plot(x, y2)\n",
    "plt.ylim(-0.1, 1.1)\n",
    "plt.show()\n",
    "\n",
    "y3 = relu(x)\n",
    "plt.title('ReLU関数')\n",
    "plt.plot(x, y3)\n",
    "plt.ylim(-1, 6)\n",
    "plt.show()"
   ]
  },
  {
   "cell_type": "markdown",
   "id": "90338f03",
   "metadata": {},
   "source": [
    "これらの関数の共通点は、いずれも非線形関数であるということである。ニューラルネットワークにおいて、活性化関数には非線形関数を用いる必要がある。なぜなら、線形関数を活性化関数にしてしまうと、いくら隠れ層を深くしてもそれと同じ結果を生む隠れ層のないネットワークが存在するため、層を重ねることの意味がなくなってしまうからである。"
   ]
  },
  {
   "cell_type": "markdown",
   "id": "c20247a1",
   "metadata": {},
   "source": [
    "## ニューラルネットワークと行列の積計算\n",
    "ニューラルネットワークの計算は、出力の要素数が増えるほど計算の量が膨大になる。しかし、入力と重みを行列の形で表すことで、一度の計算で出力を行列の形で算出することができる。各層での計算は、入力を$x_m$、重みを$w_{nm}$、出力を$a_n$、バイアスを$b_n$とすると、以下のようになる。\n",
    "<br>\n",
    "<br>\n",
    "$ \\displaystyle a_l = b_l + \\sum_{n=1}^m x_n w_{ln}$\n",
    "<br>\n",
    "<br>\n",
    "これを行列を用いることで簡素に表せる。入力を$X$、重みを$W$、出力を$A$、バイアスを$B$とすると、以下のようになる。\n",
    "<br>\n",
    "<br>\n",
    "$ A = WX + B$"
   ]
  },
  {
   "cell_type": "markdown",
   "id": "bc712533",
   "metadata": {},
   "source": [
    "## 3層ニューラルネットワークの実装\n",
    "以上の行列計算を用いて、実際に3層ニューラルネットワークを実装する。3層ニューラルネットワークは、第0層は2つ、第1層は3つ、第2層は2つ、第3層は2\n",
    "つのニューロンから構成される。（今回の実装では入力信号、重み、バイアスは適当な値を設定している。）"
   ]
  },
  {
   "cell_type": "code",
   "execution_count": 2,
   "id": "b4c24e72",
   "metadata": {
    "scrolled": true
   },
   "outputs": [
    {
     "name": "stdout",
     "output_type": "stream",
     "text": [
      "出力: [0.3 0.7 1.1]\n",
      "変換後: [0.57444252 0.66818777 0.75026011]\n"
     ]
    }
   ],
   "source": [
    "#0層目の入力信号、重み、バイアスを定義\n",
    "X = np.array([1.0, 0.5])\n",
    "W1 = np.array([[0.1, 0.3, 0.5], [0.2, 0.4, 0.6]])\n",
    "B1 = np.array([0.1, 0.2, 0.3])\n",
    "\n",
    "#出力を計算して活性化関数（今回はシグモイド関数）で信号を変換する\n",
    "A1 = np.dot(X, W1) + B1\n",
    "Z1 = sigmoid(A1)\n",
    "\n",
    "print(\"出力:\", A1)\n",
    "print(\"変換後:\", Z1)"
   ]
  },
  {
   "cell_type": "code",
   "execution_count": 3,
   "id": "831ee0de",
   "metadata": {},
   "outputs": [
    {
     "name": "stdout",
     "output_type": "stream",
     "text": [
      "出力: [0.51615984 1.21402696]\n",
      "変換後: [0.62624937 0.7710107 ]\n"
     ]
    }
   ],
   "source": [
    "#1層目の重み、バイアスを定義\n",
    "W2 = np.array([[0.1, 0.4], [0.2, 0.5], [0.3, 0.6]])\n",
    "B2 = np.array([0.1, 0.2])\n",
    "\n",
    "A2 = np.dot(Z1, W2) + B2\n",
    "Z2 = sigmoid(A2)\n",
    "\n",
    "print(\"出力:\", A2)\n",
    "print(\"変換後:\", Z2)"
   ]
  },
  {
   "cell_type": "code",
   "execution_count": 4,
   "id": "08ae534f",
   "metadata": {},
   "outputs": [
    {
     "name": "stdout",
     "output_type": "stream",
     "text": [
      "出力: [0.31682708 0.69627909]\n",
      "結果: [0.31682708 0.69627909]\n"
     ]
    }
   ],
   "source": [
    "#2層目の重み、バイアスを定義\n",
    "W3 = np.array([[0.1, 0.3], [0.2, 0.4]])\n",
    "B3 = np.array([0.1, 0.2])\n",
    "\n",
    "def identity_function(x): #出力層では今までと異なる活性化関数を使用することがあり、その関数をシグマ関数という。今回は恒等関数を使用する。\n",
    "    return x\n",
    "\n",
    "A3 = np.dot(Z2, W3) + B3\n",
    "Y = identity_function(A3)\n",
    "\n",
    "print(\"出力:\", A3)\n",
    "print(\"結果:\", Y)"
   ]
  },
  {
   "cell_type": "markdown",
   "id": "ad200134",
   "metadata": {},
   "source": [
    "## 出力層の設計\n",
    "ニューラルネットワークは、分類問題と回帰問題の両方に用いることができる。出力層の活性化関数は、どちらの問題に用いるかによって変更する必要がある。一般に、回帰問題では恒等関数を、分類問題ではソフトマックス関数を用いる。"
   ]
  },
  {
   "cell_type": "markdown",
   "id": "78a98af4",
   "metadata": {},
   "source": [
    "### 恒等関数とソフトマックス関数\n",
    "恒等関数は、入力値をそのまま出力する関数。あえて数式に表すなら下記のようになる。\n",
    "<br>\n",
    "<br>\n",
    "$ y_k = a_k$\n",
    "<br>\n",
    "<br>\n",
    "一方、ソフトマックス関数は、次の式で表される。\n",
    "<br>\n",
    "<br>\n",
    "$ y_k = \\frac{\\exp(a_k)}{\\sum_{i=1}^{n} \\exp(a_i)}$\n",
    "<br>\n",
    "<br>\n",
    "pythonで実装すると以下のような関数になる。"
   ]
  },
  {
   "cell_type": "code",
   "execution_count": 5,
   "id": "8517b0e6",
   "metadata": {},
   "outputs": [],
   "source": [
    "def softmax(a):\n",
    "    c = np.max(a)\n",
    "    exp_a = np.exp(a - c) #オーバーフロー対策\n",
    "    sum_exp_a = np.sum(exp_a)\n",
    "    y = exp_a / sum_exp_a\n",
    "    return y"
   ]
  },
  {
   "cell_type": "markdown",
   "id": "406d50ce",
   "metadata": {},
   "source": [
    "指数関数を用いると、容易に大きな数値が計算に出現するため、オーバーフローの対策を行わなければならない。\n",
    "<br>\n",
    "この関数を用いてニューラルネットワークの出力を計算すると以下のようになる。"
   ]
  },
  {
   "cell_type": "code",
   "execution_count": 6,
   "id": "5cfb65ec",
   "metadata": {},
   "outputs": [
    {
     "name": "stdout",
     "output_type": "stream",
     "text": [
      "[0.01821127 0.24519181 0.73659691]\n",
      "1.0\n"
     ]
    }
   ],
   "source": [
    "a = np.array([0.3, 2.9, 4.0])\n",
    "y = softmax(a)\n",
    "print(y)\n",
    "print(np.sum(y))"
   ]
  },
  {
   "cell_type": "markdown",
   "id": "b98f5e37",
   "metadata": {},
   "source": [
    "これで示したように、ソフトマックス関数がとる値は、0から1.0の間の実数になる。また、ソフトマックス関数の出力の総和は1となる。これらの性質から、ソフトマックス関数の出力は確率として解釈できる。例えば上の例では、各要素の確率はそれぞれおおよそ$y[0]$は0.018、$y[1]$は0.245、$y[2]$は0.737という風に解釈できる。そして、この結果から、二番目の要素が最も確率が高いから、答えは二番目のクラスであると言うことができる。また、確率を数値的に導出することもできる。\n",
    "<br>\n",
    "しかし注意として、ソフトマックス関数を適用しても各要素間の大小関係は変化しない。これは、指数関数が単調増加する関数であることに起因する。一般にニューラルネットワークのクラス分類問題では、一番出力の大きい要素のみを認識結果とする。そのため、クラス分類問題を扱う際には最大の値をとる要素がわかるだけでよいため、出力層のソフトマックス関数は省略されることが多い。"
   ]
  },
  {
   "cell_type": "markdown",
   "id": "fa5c4db9",
   "metadata": {},
   "source": [
    "### 出力層のニューロンの数\n",
    "出力層のニューロンの数は、解くべき問題に応じて適宜決める必要がある。一般にクラス分類では出力層のニューロン数は分類したいクラスの数に設定する。"
   ]
  },
  {
   "cell_type": "markdown",
   "id": "90308002",
   "metadata": {},
   "source": [
    "## 手書き文字認識\n",
    "実践的な内容として、手書きの数字の画像の分類を実装する。機械学習で問題を解く際には、「学習」と「推論」の二つのフェーズがあるが、ここでは、すでに学習が済んだパラメータを使用し、ニューラルネットワークの**推論処理**（**順方向伝播**ともいう）のみを実装する。"
   ]
  },
  {
   "cell_type": "markdown",
   "id": "c3de238b",
   "metadata": {},
   "source": [
    "### MNISTデータセット\n",
    "今回使用するデータセットは、MNISTという機械学習でも有名なデータセットの中の手書き数字の画像セット。今回はデータセットのダウンロード、画像データのNumPy配列への変換に、オライリー・ジャパン発行の「ゼロから作るDeepLearning - Pythonで学ぶディープラーニングの理論と実装」の中で提供されているmnist.pyの```load_mnist```関数を用いる。\n",
    "<br>\n",
    "- ```load_mnist()```\n",
    "    - 返り値・・・(訓練画像, 訓練ラベル), (テスト画像, テストラベル)\n",
    "    - 引数\n",
    "        - ```normalize```・・・入力値を0.0～1.0に正規化するかどうか\n",
    "        - ```flatten```・・・入力画像を一次元配列にするかどうか\n",
    "        - ```one_hot_label```・・・結果をone-hot表現で出力するかどうか"
   ]
  },
  {
   "cell_type": "code",
   "execution_count": 7,
   "id": "267a2c49",
   "metadata": {},
   "outputs": [],
   "source": [
    "from mnist import load_mnist"
   ]
  },
  {
   "cell_type": "markdown",
   "id": "2c2926b9",
   "metadata": {},
   "source": [
    "### 推論処理実装\n",
    "MNISTデータセットの画像サイズは28×28であり、0～9の10クラス分類を行うことから、今回は入力層が$28 \\times 28 = 784$個、出力層が10個のニューロンでそれぞれ構成されるネットワークを実装する。また、隠れ層は2層で、それぞれ1つ目は50個、2つ目は100個のニューロンを持つものとする。（この2つの値は任意の値に変更可能）"
   ]
  },
  {
   "cell_type": "code",
   "execution_count": 12,
   "id": "72be1c68",
   "metadata": {},
   "outputs": [],
   "source": [
    "import pickle\n",
    "\n",
    "def get_data(): #データの取得と前処理\n",
    "    (x_train, t_train), (x_test, t_test) = load_mnist(normalize=True, flatten=True, one_hot_label=False)\n",
    "    return x_test, t_test\n",
    "\n",
    "def init_network(): #学習済みの重みパラメータを読み込み\n",
    "    with open(\"sample_weight.pkl\", 'rb') as f:\n",
    "        network = pickle.load(f)\n",
    "        \n",
    "    return network\n",
    "\n",
    "def predict(network, x): #推論処理\n",
    "    W1, W2, W3 = network['W1'], network['W2'], network['W3']\n",
    "    b1, b2, b3 = network['b1'], network['b2'], network['b3']\n",
    "    \n",
    "    a1 = np.dot(x, W1) + b1\n",
    "    z1 = sigmoid(a1)\n",
    "    a2 = np.dot(z1, W2) + b2\n",
    "    z2 = sigmoid(a2)\n",
    "    a3 = np.dot(z2, W3) + b3\n",
    "    y = softmax(a3)\n",
    "    \n",
    "    return y"
   ]
  },
  {
   "cell_type": "code",
   "execution_count": 15,
   "id": "769ffe96",
   "metadata": {},
   "outputs": [
    {
     "name": "stdout",
     "output_type": "stream",
     "text": [
      "Accuracy:0.9352\n",
      "CPU times: total: 1.59 s\n",
      "Wall time: 1.97 s\n"
     ]
    }
   ],
   "source": [
    "%%time\n",
    "x, t = get_data()\n",
    "network = init_network()\n",
    "\n",
    "accuracy_cnt = 0\n",
    "for i in range(len(x)):\n",
    "    y = predict(network, x[i])\n",
    "    p = np.argmax(y)\n",
    "    if p == t[i]:\n",
    "        accuracy_cnt += 1\n",
    "\n",
    "print(\"Accuracy:\" + str(float(accuracy_cnt) / len(x)))"
   ]
  },
  {
   "cell_type": "markdown",
   "id": "4e08afe0",
   "metadata": {},
   "source": [
    "テストデータで検証したところ、93.52%の精度で手書き数字を分類することができたことがわかる。"
   ]
  },
  {
   "cell_type": "markdown",
   "id": "c9b9f7df",
   "metadata": {},
   "source": [
    "### バッチ処理\n",
    "数値処理を行うライブラリの多くは、大きな行列計算に最適化されている。（バス帯域への負荷を軽減できるため。）そのため、先ほどは一次元配列で784個の要素を入力したのを、$ 100 \\times 784$の二次元配列で入力することで、100枚分の画像データを一度に行列計算することができ、処理を効率化することができる。"
   ]
  },
  {
   "cell_type": "code",
   "execution_count": 16,
   "id": "5fe484bf",
   "metadata": {},
   "outputs": [
    {
     "name": "stdout",
     "output_type": "stream",
     "text": [
      "Accuracy:0.9352\n",
      "CPU times: total: 516 ms\n",
      "Wall time: 670 ms\n"
     ]
    }
   ],
   "source": [
    "%%time\n",
    "x, t = get_data()\n",
    "network = init_network()\n",
    "\n",
    "batch_size = 100 #バッチの数\n",
    "accuracy_cnt = 0\n",
    "\n",
    "for i in range(0, len(x), batch_size):\n",
    "    x_batch = x[i:i + batch_size] #スライスを使って100枚ずつバッチとして取り出す\n",
    "    y_batch = predict(network, x_batch)\n",
    "    p = np.argmax(y_batch, axis=1) #一次元の要素ごとに最大値を取り出す\n",
    "    accuracy_cnt += np.sum(p == t[i:i + batch_size]) #比較演算子を使用しbool値で正答数を加算する\n",
    "\n",
    "print(\"Accuracy:\" + str(float(accuracy_cnt) / len(x)))"
   ]
  },
  {
   "cell_type": "markdown",
   "id": "1a9f1c15",
   "metadata": {},
   "source": [
    "```%%time```によって表示された処理にかかった時間を見ると、確かに処理が高速化されていることがわかる。"
   ]
  }
 ],
 "metadata": {
  "kernelspec": {
   "display_name": "Python 3 (ipykernel)",
   "language": "python",
   "name": "python3"
  },
  "language_info": {
   "codemirror_mode": {
    "name": "ipython",
    "version": 3
   },
   "file_extension": ".py",
   "mimetype": "text/x-python",
   "name": "python",
   "nbconvert_exporter": "python",
   "pygments_lexer": "ipython3",
   "version": "3.9.13"
  }
 },
 "nbformat": 4,
 "nbformat_minor": 5
}
